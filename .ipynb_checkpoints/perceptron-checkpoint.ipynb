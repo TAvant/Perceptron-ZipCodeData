{
 "metadata": {
  "name": "",
  "signature": "sha256:c502d03b913d770f23d534475e34aee1ff73c9dfe9ef78a74664354c4668dfa7"
 },
 "nbformat": 3,
 "nbformat_minor": 0,
 "worksheets": [
  {
   "cells": [
    {
     "cell_type": "code",
     "collapsed": false,
     "input": [
      "import gzip\n",
      "import numpy as np"
     ],
     "language": "python",
     "metadata": {},
     "outputs": [],
     "prompt_number": 1
    },
    {
     "cell_type": "raw",
     "metadata": {},
     "source": [
      "name:         define_binary_data\n",
      "description:  function removes all data related to two class labels from an N x M matrix and returns N_new x M matrix\n",
      "dependencies: none\n",
      "inputs:       data - is an N x M matrix containing labels\n",
      "              label_idx - is the column containing the labels of the data\n",
      "              label_a - is labeled data from the N x M matrix that will be kept and re-labeled as 0\n",
      "              label_b - is labeled data from the N x M matrix that will be kept and re-labeled as 1\n",
      "output:       returns N_new x M matrix composed of the two labels extracted from the orginal N x M matrix"
     ]
    },
    {
     "cell_type": "code",
     "collapsed": false,
     "input": [
      "def define_binary_data(data, label_idx, label_a, label_b):\n",
      "    # extract labels 1 and 2 from data\n",
      "    data_label_a = data[data[:,label_idx] == label_a]\n",
      "    data_label_b = data[data[:,label_idx] == label_b]\n",
      "    \n",
      "    # re-label data: label_1 = 0 and label_2 = 1\n",
      "    data_label_a[:,label_idx] = 0\n",
      "    data_label_b[:,label_idx] = 1\n",
      "    \n",
      "    # verticaly stack matrices and randomly shuffle rows\n",
      "    binary_data = np.vstack((data_label_a, data_label_b))\n",
      "    np.random.shuffle(binary_data)\n",
      "    \n",
      "    return binary_data"
     ],
     "language": "python",
     "metadata": {},
     "outputs": [],
     "prompt_number": 2
    },
    {
     "cell_type": "raw",
     "metadata": {},
     "source": [
      "name:         ad_bias\n",
      "description:  function takes a matrix of binay labeled data and returns that matrix with an added row of ones at index zero\n",
      "dependencies: none\n",
      "inputs:       data - is an N x M matrix containing binary labeled data\n",
      "output:       returns N+1 x M composed of the orginal input matrix and an additional row for bias"
     ]
    },
    {
     "cell_type": "code",
     "collapsed": false,
     "input": [
      "def add_bias(data):\n",
      "    # create bias vector\n",
      "    bias = np.ones((1,data.shape[1]))\n",
      "    \n",
      "    # return verticaly stacked bias on data\n",
      "    return np.vstack((bias, data))"
     ],
     "language": "python",
     "metadata": {},
     "outputs": [],
     "prompt_number": 3
    },
    {
     "cell_type": "raw",
     "metadata": {},
     "source": [
      "name:         initial_beta\n",
      "description:  function initializes a vector of weights by taking the mean difference of the two labeled data classes\n",
      "dependencies: none\n",
      "inputs:       data - is a N x M matrix containg only binary labeled data with a bias added\n",
      "outputs:      returns an initial vector of weights (gamma)"
     ]
    },
    {
     "cell_type": "code",
     "collapsed": false,
     "input": [
      "def initial_beta(data, label_idx):\n",
      "    # extract labels 0 and 1 from data\n",
      "    data_label_0 = data[data[:,label_idx] == 0][:,1:]\n",
      "    data_label_1 = data[data[:,label_idx] == 1][:,1:]\n",
      "    \n",
      "    # caculate means of the column vectors\n",
      "    mean_0 = np.mean(data_label_0, axis=0)[:,np.newaxis]\n",
      "    mean_1 = np.mean(data_label_1, axis=0)[:,np.newaxis]\n",
      "    \n",
      "    # return the difference of the means for labels 0 and 1\n",
      "    return mean_0 - mean_1"
     ],
     "language": "python",
     "metadata": {},
     "outputs": [],
     "prompt_number": 4
    },
    {
     "cell_type": "raw",
     "metadata": {},
     "source": [
      "name:         prepare_data\n",
      "description:  function takes a matrix of raw data which it extracts all the data involving two specified classes and builds\n",
      "              another matrix of binary labeled data; It then adds a bias to the new matrix and creates an initial vector of\n",
      "              weights, based on this new matrix; in addition to seperating the data from its labels\n",
      "dependencies: define_binary_data\n",
      "              add_bias\n",
      "              initial_beta\n",
      "inputs:       data - is an N x M matrix containing labels\n",
      "              label_idx - is the column containing the labels of the data\n",
      "              label_a - is labeled data from the N x M matrix that will be kept and re-labeled as 0\n",
      "              label_b - is labeled data from the N x M matrix that will be kept and re-labeled as 1\n",
      "outputs:      returns an initial vector of weights (beta), a matrix of observations (X), and a vector of labels (y)"
     ]
    },
    {
     "cell_type": "code",
     "collapsed": false,
     "input": [
      "def prepare_data(train_data, label_idx, label_a, label_b):\n",
      "    # generate a new matrix, from the raw data, based on the specified labels and add a bias row\n",
      "    new_data = add_bias(define_binary_data(train_data, label_idx, label_a, label_b))\n",
      "    \n",
      "    # return beta, X, and y\n",
      "    return new_data[:,1:], new_data[:,0], initial_beta(new_data, label_idx)"
     ],
     "language": "python",
     "metadata": {},
     "outputs": [],
     "prompt_number": 5
    },
    {
     "cell_type": "raw",
     "metadata": {},
     "source": [
      "name:         train_weights\n",
      "description:  function uses gradient descent to update beta (vector of coeficients or weights) to minimize \n",
      "              the error of the function output\n",
      "dependencies: none\n",
      "inputs:       X - a matrix of observations\n",
      "              y - a vector of labels\n",
      "              beta - an initial vector of weights\n",
      "outputs:      returns an update version of beta that minimizes the error of the function "
     ]
    },
    {
     "cell_type": "code",
     "collapsed": false,
     "input": [
      "def train_weights(X, y, beta, step_size=0.1, significant_figures=1E-4):\n",
      "    # initialize some variables\n",
      "    error_flag = True\n",
      "    previous_error = 0\n",
      "    \n",
      "    # while the difference in the current error and previous error is significant \n",
      "    while error_flag:\n",
      "\n",
      "        # initialize error and error gradient to zeros\n",
      "        error = 0\n",
      "        error_gradient_sum = np.zeros(beta.shape)\n",
      "\n",
      "        # iterate through each observation\n",
      "        for observation_idx in range(X.shape[0]):\n",
      "\n",
      "            # get current observation\n",
      "            x = X[observation_idx][:,np.newaxis]\n",
      "\n",
      "            # caculate y_hat using sigmoid function\n",
      "            y_hat = 1 / (1 + np.exp(np.dot(-beta.T, x)))\n",
      "\n",
      "            # caculate the error and add to sum of errors\n",
      "            difference = y_hat - y[observation_idx]\n",
      "            error += 0.5 * (difference)**2\n",
      "\n",
      "            # caculate gradient of error and add it to the sum of gradient errors\n",
      "            error_gradient = (difference * y_hat * (1 - y_hat)) * x\n",
      "            error_gradient_sum = np.sum(np.hstack(( error_gradient_sum, error_gradient)), axis=1)[:,np.newaxis]\n",
      "\n",
      "        # check if the difference in the current error and previous error is significant\n",
      "        if abs(previous_error - error) < significant_figures:\n",
      "            error_flag = False\n",
      "\n",
      "        # else update weights (beta)\n",
      "        else:\n",
      "            previous_error = error\n",
      "            beta -= step_size * error_gradient_sum\n",
      "            \n",
      "    # return vector of weights\n",
      "    return beta"
     ],
     "language": "python",
     "metadata": {},
     "outputs": [],
     "prompt_number": 6
    },
    {
     "cell_type": "raw",
     "metadata": {},
     "source": [
      "Extract the training data from its file"
     ]
    },
    {
     "cell_type": "code",
     "collapsed": false,
     "input": [
      "with gzip.open('../Data/zip.train.gz') as f:\n",
      "    train_data = np.loadtxt(f)"
     ],
     "language": "python",
     "metadata": {},
     "outputs": [],
     "prompt_number": 7
    },
    {
     "cell_type": "raw",
     "metadata": {},
     "source": [
      "Define index of labels in the training data and the two labels to be used with the perceptron"
     ]
    },
    {
     "cell_type": "code",
     "collapsed": false,
     "input": [
      "label_idx = 0\n",
      "label_a = 2\n",
      "label_b = 3"
     ],
     "language": "python",
     "metadata": {},
     "outputs": [],
     "prompt_number": 8
    },
    {
     "cell_type": "raw",
     "metadata": {},
     "source": [
      "Prepare the training data to be used in the perceptron"
     ]
    },
    {
     "cell_type": "code",
     "collapsed": false,
     "input": [
      "X, y, beta_initial = prepare_data(train_data, label_idx, label_a, label_b)"
     ],
     "language": "python",
     "metadata": {},
     "outputs": [],
     "prompt_number": 9
    },
    {
     "cell_type": "raw",
     "metadata": {},
     "source": [
      "Update beta to minimize the error of the perceptron"
     ]
    },
    {
     "cell_type": "code",
     "collapsed": false,
     "input": [
      "beta = train_weights(X, y, beta_initial)"
     ],
     "language": "python",
     "metadata": {},
     "outputs": [],
     "prompt_number": 10
    },
    {
     "cell_type": "raw",
     "metadata": {},
     "source": [
      "Extract the testing data from its file"
     ]
    },
    {
     "cell_type": "code",
     "collapsed": false,
     "input": [
      "with gzip.open('../Data/zip.test.gz') as f:\n",
      "    test_data = np.loadtxt(f)"
     ],
     "language": "python",
     "metadata": {},
     "outputs": [],
     "prompt_number": 11
    },
    {
     "cell_type": "raw",
     "metadata": {},
     "source": [
      "Use new weight coeficients to classify test set and output confusion matrix scores"
     ]
    },
    {
     "cell_type": "code",
     "collapsed": false,
     "input": [],
     "language": "python",
     "metadata": {},
     "outputs": []
    }
   ],
   "metadata": {}
  }
 ]
}